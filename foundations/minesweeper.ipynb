{
  "nbformat": 4,
  "nbformat_minor": 0,
  "metadata": {
    "colab": {
      "name": "minesweeper.ipynb",
      "version": "0.3.2",
      "provenance": [],
      "include_colab_link": true
    },
    "kernelspec": {
      "name": "python3",
      "display_name": "Python 3"
    }
  },
  "cells": [
    {
      "cell_type": "markdown",
      "metadata": {
        "id": "view-in-github",
        "colab_type": "text"
      },
      "source": [
        "[View in Colaboratory](https://colab.research.google.com/github/viagostini/techdevguide/blob/master/foundations/minesweeper.ipynb)"
      ]
    },
    {
      "metadata": {
        "id": "lTu3--zxJqLC",
        "colab_type": "text"
      },
      "cell_type": "markdown",
      "source": [
        "# Minesweeper\n",
        "\n",
        "*Problem taken from https://techdevguide.withgoogle.com/paths/foundational/sequence-2/coding-question-minesweeper/#!*\n",
        "\n",
        "<hr>\n",
        "\n",
        "### Problem\n",
        "Minesweeper is a game where the objective is correctly identify the location of all mines in a given grid. You are given a uniform grid of gray squares in the beginning of the game. Each square contains either a mine (indicated by a value of 9), or an empty square. Empty squares have a number indicating the count of mines in the adjacent squares. Empty squares can have counts from zero (no adjacent mines) up to 8 (all adjacent squares are mines).\n",
        "\n",
        "Given the size of the field and the number of mines, initialize the game."
      ]
    },
    {
      "metadata": {
        "id": "Y4EiMLdAJhPt",
        "colab_type": "code",
        "colab": {}
      },
      "cell_type": "code",
      "source": [
        "import random\n",
        "\n",
        "class MineField(object):\n",
        "  '''\n",
        "    Note: If number of mines is greater than number of cells\n",
        "    it will work just as if they were the same.\n",
        "  '''\n",
        "  def __init__(self, N, M):\n",
        "    self.rows = N;\n",
        "    self.cols = N;\n",
        "    self.mines = M;\n",
        "    self.field = [[0]*N for x in range(N)]\n",
        "    self.fill()\n",
        "    \n",
        "  def place_mine(self, i, j):\n",
        "    self.field[i][j] = 9\n",
        "    \n",
        "  def increment_neighbours(self, row, col):\n",
        "    for i in range(max(0, row-1), min(row+2, self.rows)):\n",
        "      for j in range(max(0, col-1), min(col+2, self.cols)):\n",
        "        if self.field[i][j] != 9:\n",
        "          self.field[i][j] += 1\n",
        "    \n",
        "    \n",
        "  def fill(self):\n",
        "    remaining_mines = self.mines\n",
        "    remaining_cells = self.rows * self.cols\n",
        "    for i in range(self.rows):\n",
        "      for j in range(self.cols):\n",
        "        p = float(remaining_mines) / remaining_cells\n",
        "        if random.uniform(0., 1.) < p:\n",
        "          self.place_mine(i, j)\n",
        "          self.increment_neighbours(i, j)\n",
        "          remaining_mines -= 1\n",
        "        remaining_cells -= 1\n",
        "  \n",
        "  def nrows(self):\n",
        "    return self.rows\n",
        "  \n",
        "  def ncols(self):\n",
        "    return self.cols\n",
        "  \n",
        "  def at(self, row, col):\n",
        "    return self.field[row][col]\n",
        "    "
      ],
      "execution_count": 0,
      "outputs": []
    },
    {
      "metadata": {
        "id": "1-IWKmdNLxuJ",
        "colab_type": "code",
        "colab": {
          "base_uri": "https://localhost:8080/",
          "height": 187
        },
        "outputId": "9d9702fe-d0fb-4afc-9a6f-3f12afe7496e"
      },
      "cell_type": "code",
      "source": [
        "x = MineField(10,12)\n",
        "\n",
        "for i in x.field:\n",
        "  print(i)\n",
        "    "
      ],
      "execution_count": 72,
      "outputs": [
        {
          "output_type": "stream",
          "text": [
            "[0, 0, 0, 0, 0, 0, 0, 0, 0, 0]\n",
            "[1, 1, 0, 0, 0, 0, 0, 0, 0, 0]\n",
            "[9, 1, 1, 1, 1, 0, 1, 1, 2, 1]\n",
            "[1, 1, 1, 9, 1, 0, 1, 9, 3, 9]\n",
            "[0, 0, 1, 1, 1, 0, 1, 2, 9, 2]\n",
            "[0, 0, 0, 0, 0, 0, 1, 2, 2, 1]\n",
            "[1, 1, 0, 1, 2, 2, 2, 9, 1, 0]\n",
            "[9, 1, 1, 2, 9, 9, 2, 2, 2, 1]\n",
            "[1, 1, 1, 9, 3, 3, 2, 2, 9, 1]\n",
            "[0, 0, 1, 1, 1, 1, 9, 2, 1, 1]\n"
          ],
          "name": "stdout"
        }
      ]
    },
    {
      "metadata": {
        "id": "2AwQa7sGPFPS",
        "colab_type": "code",
        "colab": {}
      },
      "cell_type": "code",
      "source": [
        ""
      ],
      "execution_count": 0,
      "outputs": []
    }
  ]
}